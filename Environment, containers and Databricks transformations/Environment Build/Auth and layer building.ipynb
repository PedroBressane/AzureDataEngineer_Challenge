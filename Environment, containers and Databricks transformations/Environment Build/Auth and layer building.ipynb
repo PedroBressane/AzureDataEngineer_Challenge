{
 "cells": [
  {
   "cell_type": "code",
   "execution_count": 0,
   "metadata": {
    "application/vnd.databricks.v1+cell": {
     "cellMetadata": {
      "byteLimit": 2048000,
      "rowLimit": 10000
     },
     "inputWidgets": {},
     "nuid": "e3d92208-8a2e-4280-b673-c7d58402889c",
     "showTitle": true,
     "tableResultSettingsMap": {},
     "title": "Configs"
    }
   },
   "outputs": [],
   "source": [
    "configs = {\n",
    "    \"fs.azure.account.auth.type\": \"OAuth\",\n",
    "    \"fs.azure.account.oauth.provider.type\": \"org.apache.hadoop.fs.azurebfs.oauth2.ClientCredsTokenProvider\",\n",
    "    \"fs.azure.account.oauth2.client.id\": \"xxxxxxxxxxxxxxxxxxxxxxxxxxxxxxxxxxxx\",\n",
    "    \"fs.azure.account.oauth2.client.secret\": \"xxxxxxxxxxxxxxxxxxxxxxxxxxxxxxxxxxxx\",\n",
    "    \"fs.azure.account.oauth2.client.endpoint\": \"https://login.microsoftonline.com/xxxxxxxxxxxxxxxxxxxxxxxxxxxxxxxxxxxx/oauth2/token\"\n",
    "}"
   ]
  },
  {
   "cell_type": "code",
   "execution_count": 0,
   "metadata": {
    "application/vnd.databricks.v1+cell": {
     "cellMetadata": {
      "byteLimit": 2048000,
      "rowLimit": 10000
     },
     "inputWidgets": {},
     "nuid": "5c557b79-4710-4e9f-8021-9f13975a9a92",
     "showTitle": true,
     "tableResultSettingsMap": {},
     "title": "Safe mount function"
    }
   },
   "outputs": [],
   "source": [
    "def safe_mount(source, mount_point, configs):\n",
    "    try:\n",
    "        if not any(mount.mountPoint == mount_point for mount in dbutils.fs.mounts()):\n",
    "            dbutils.fs.mount(\n",
    "                source=source,\n",
    "                mount_point=mount_point,\n",
    "                extra_configs=configs\n",
    "            )\n",
    "            print(f\"✅ {mount_point} mounted\")\n",
    "        else:\n",
    "            print(f\"ℹ️ {mount_point} its already mounted\")\n",
    "    except Exception as e:\n",
    "        print(f\"Failed to mount {mount_point}: {str(e)}\")"
   ]
  },
  {
   "cell_type": "code",
   "execution_count": 0,
   "metadata": {
    "application/vnd.databricks.v1+cell": {
     "cellMetadata": {
      "byteLimit": 2048000,
      "rowLimit": 10000
     },
     "inputWidgets": {},
     "nuid": "2d73c652-cd4c-41f6-8574-fc10beac142f",
     "showTitle": true,
     "tableResultSettingsMap": {},
     "title": "Bronze point"
    }
   },
   "outputs": [
    {
     "output_type": "stream",
     "name": "stdout",
     "output_type": "stream",
     "text": [
      "ℹ️ /mnt/bronze its already mounted\n"
     ]
    }
   ],
   "source": [
    "# Bronze mount point\n",
    "safe_mount(\n",
    "    source=\"abfss://bronze@stglakehousexxxxxxx.dfs.core.windows.net/\",\n",
    "    mount_point=\"/mnt/bronze\",\n",
    "    configs=configs)"
   ]
  },
  {
   "cell_type": "code",
   "execution_count": 0,
   "metadata": {
    "application/vnd.databricks.v1+cell": {
     "cellMetadata": {
      "byteLimit": 2048000,
      "rowLimit": 10000
     },
     "inputWidgets": {},
     "nuid": "c65905e3-5bc4-4784-9a31-0ab5f4cdbf44",
     "showTitle": true,
     "tableResultSettingsMap": {},
     "title": "Silver point"
    }
   },
   "outputs": [
    {
     "output_type": "stream",
     "name": "stdout",
     "output_type": "stream",
     "text": [
      "ℹ️ /mnt/silver its already mounted\n"
     ]
    }
   ],
   "source": [
    "# Silver mount point\n",
    "safe_mount(\n",
    "    source=\"abfss://silver@stglakehousexxxxxxx.dfs.core.windows.net/\",\n",
    "    mount_point=\"/mnt/silver\", \n",
    "    configs=configs)"
   ]
  },
  {
   "cell_type": "code",
   "execution_count": 0,
   "metadata": {
    "application/vnd.databricks.v1+cell": {
     "cellMetadata": {
      "byteLimit": 2048000,
      "rowLimit": 10000
     },
     "inputWidgets": {},
     "nuid": "e7ee491d-903d-4d68-b695-61d1dee50b9f",
     "showTitle": true,
     "tableResultSettingsMap": {},
     "title": "Gold point"
    }
   },
   "outputs": [
    {
     "output_type": "stream",
     "name": "stdout",
     "output_type": "stream",
     "text": [
      "ℹ️ /mnt/gold its already mounted\n"
     ]
    }
   ],
   "source": [
    "# Gold mount point\n",
    "safe_mount(\n",
    "    source=\"abfss://gold@stglakehousexxxxxxx.dfs.core.windows.net/\",\n",
    "    mount_point=\"/mnt/gold\",\n",
    "    configs=configs)"
   ]
  }
 ],
 "metadata": {
  "application/vnd.databricks.v1+notebook": {
   "computePreferences": null,
   "dashboards": [],
   "environmentMetadata": {
    "base_environment": "",
    "environment_version": "2"
   },
   "inputWidgetPreferences": null,
   "language": "python",
   "notebookMetadata": {
    "pythonIndentUnit": 4
   },
   "notebookName": "(Clone) Auth and layer building",
   "widgets": {}
  },
  "language_info": {
   "name": "python"
  }
 },
 "nbformat": 4,
 "nbformat_minor": 0
}