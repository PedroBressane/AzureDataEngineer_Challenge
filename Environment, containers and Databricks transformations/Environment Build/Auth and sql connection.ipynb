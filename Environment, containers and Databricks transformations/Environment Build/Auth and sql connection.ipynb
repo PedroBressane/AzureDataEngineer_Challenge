{
 "cells": [
  {
   "cell_type": "code",
   "execution_count": 0,
   "metadata": {
    "application/vnd.databricks.v1+cell": {
     "cellMetadata": {
      "byteLimit": 2048000,
      "rowLimit": 10000
     },
     "inputWidgets": {},
     "nuid": "67f80703-5030-4028-bd89-cc58251f83e3",
     "showTitle": false,
     "tableResultSettingsMap": {},
     "title": ""
    }
   },
   "outputs": [],
   "source": [
    "# Parameters\n",
    "sql_server_name = \"xxxxxx-beverage-sql-server.database.windows.net\"\n",
    "sql_database = \"xxxxxx-beverage-sql\" \n",
    "sql_user = \"xxxxxx_teste\"\n",
    "sql_password = \"xxxxxxxxxxxx\"\n",
    "\n",
    "# JDBC connection\n",
    "jdbc_url = f\"jdbc:sqlserver://{sql_server_name}:1433;database={sql_database};encrypt=true;trustServerCertificate=false;hostNameInCertificate=*.database.windows.net;loginTimeout=30;\"\n",
    "\n",
    "connection_properties = {\n",
    "    \"user\": sql_user,\n",
    "    \"password\": sql_password, \n",
    "    \"driver\": \"com.microsoft.sqlserver.jdbc.SQLServerDriver\"\n",
    "}\n"
   ]
  }
 ],
 "metadata": {
  "application/vnd.databricks.v1+notebook": {
   "computePreferences": null,
   "dashboards": [],
   "environmentMetadata": {
    "base_environment": "",
    "environment_version": "2"
   },
   "inputWidgetPreferences": null,
   "language": "python",
   "notebookMetadata": {
    "pythonIndentUnit": 4
   },
   "notebookName": "(Clone) Auth and sql connection",
   "widgets": {}
  },
  "language_info": {
   "name": "python"
  }
 },
 "nbformat": 4,
 "nbformat_minor": 0
}