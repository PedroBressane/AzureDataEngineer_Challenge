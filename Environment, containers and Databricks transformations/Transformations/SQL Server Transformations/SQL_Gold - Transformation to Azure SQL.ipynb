{
 "cells": [
  {
   "cell_type": "code",
   "execution_count": 0,
   "metadata": {
    "application/vnd.databricks.v1+cell": {
     "cellMetadata": {
      "byteLimit": 2048000,
      "rowLimit": 10000
     },
     "inputWidgets": {},
     "nuid": "e56e38be-65af-46cb-b8ce-442a05847c3e",
     "showTitle": false,
     "tableResultSettingsMap": {},
     "title": ""
    }
   },
   "outputs": [],
   "source": [
    "# Parameters\n",
    "sql_server_name = \"xxxxxxx-beverage-sql-server.database.windows.net\"\n",
    "sql_database = \"xxxxxxx-beverage-sql\" \n",
    "sql_user = \"xxxxxxx_teste\"\n",
    "sql_password = \"xxxxxxxxxxxx\"\n",
    "\n",
    "# JDBC connection\n",
    "jdbc_url = f\"jdbc:sqlserver://{sql_server_name}:1433;database={sql_database};encrypt=true;trustServerCertificate=false;hostNameInCertificate=*.database.windows.net;loginTimeout=30;\"\n",
    "\n",
    "connection_properties = {\n",
    "    \"user\": sql_user,\n",
    "    \"password\": sql_password, \n",
    "    \"driver\": \"com.microsoft.sqlserver.jdbc.SQLServerDriver\"\n",
    "}"
   ]
  },
  {
   "cell_type": "code",
   "execution_count": 0,
   "metadata": {
    "application/vnd.databricks.v1+cell": {
     "cellMetadata": {
      "byteLimit": 2048000,
      "rowLimit": 10000
     },
     "inputWidgets": {},
     "nuid": "165eedfc-2b53-45aa-bf45-485261cabf90",
     "showTitle": true,
     "tableResultSettingsMap": {},
     "title": "Temp_views from talbes"
    }
   },
   "outputs": [],
   "source": [
    "# Temp_view to sql_query\n",
    "fact_sale_df = spark.read.jdbc(jdbc_url, \"dbo.sql_fact_sale\", properties=connection_properties)\n",
    "channel_group_df = spark.read.jdbc(jdbc_url, \"dbo.sql_dim_channel_group\", properties=connection_properties)\n",
    "month_df = spark.read.jdbc(jdbc_url, \"dbo.sql_dim_month\", properties=connection_properties)\n",
    "flavor_df = spark.read.jdbc(jdbc_url, \"dbo.sql_dim_flavor\", properties=connection_properties)\n",
    "\n",
    "fact_sale_df.createOrReplaceTempView(\"sql_fact_sale\")\n",
    "channel_group_df.createOrReplaceTempView(\"sql_dim_channel_group\")\n",
    "month_df.createOrReplaceTempView(\"sql_dim_month\")\n",
    "flavor_df.createOrReplaceTempView(\"sql_dim_flavor\")"
   ]
  },
  {
   "cell_type": "code",
   "execution_count": 0,
   "metadata": {
    "application/vnd.databricks.v1+cell": {
     "cellMetadata": {
      "byteLimit": 2048000,
      "rowLimit": 10000
     },
     "inputWidgets": {},
     "nuid": "23b41daa-7657-48a1-a3b0-3aafbb572d49",
     "showTitle": true,
     "tableResultSettingsMap": {},
     "title": "Variables"
    }
   },
   "outputs": [],
   "source": [
    "# Gold Layer path variables\n",
    "RESULT_REGION_TRADE_GROUP = \"agg_sales_by_region_trade_group\"\n",
    "RESULT_BRAND_MONTH = \"agg_sales_by_brand_month\"\n",
    "RESULT_LOWEST_BRAND = \"agg_lowest_brand_by_region\"\n"
   ]
  },
  {
   "cell_type": "code",
   "execution_count": 0,
   "metadata": {
    "application/vnd.databricks.v1+cell": {
     "cellMetadata": {
      "byteLimit": 2048000,
      "rowLimit": 10000
     },
     "inputWidgets": {},
     "nuid": "23901e47-37be-4d9f-8c19-acb4d50bf488",
     "showTitle": true,
     "tableResultSettingsMap": {},
     "title": "Task 4.1"
    }
   },
   "outputs": [],
   "source": [
    "# Top 3 Trade Groups for each Region in sales ($ Volume)\n",
    "view_region_trade_group = spark.sql(f\"\"\"\n",
    "WITH ranked_data AS (\n",
    "    SELECT \n",
    "        fs.region_desc AS region,\n",
    "        dcg.trade_group_desc AS trade_group,\n",
    "        SUM(fs.sales_volume) AS total_volume,\n",
    "        ROW_NUMBER() OVER(PARTITION BY fs.region_desc ORDER BY SUM(fs.sales_volume) DESC) AS rank\n",
    "    FROM sql_fact_sale fs\n",
    "    JOIN sql_dim_channel_group dcg ON fs.channel_id = dcg.channel_id\n",
    "    GROUP BY fs.region_desc, dcg.trade_group_desc\n",
    ")\n",
    "SELECT region, trade_group, total_volume\n",
    "FROM ranked_data \n",
    "WHERE rank <= 3\n",
    "ORDER BY region, total_volume DESC\n",
    "\"\"\")"
   ]
  },
  {
   "cell_type": "code",
   "execution_count": 0,
   "metadata": {
    "application/vnd.databricks.v1+cell": {
     "cellMetadata": {
      "byteLimit": 2048000,
      "rowLimit": 10000
     },
     "inputWidgets": {},
     "nuid": "6405dd3b-9980-48c6-968d-b064ccbbb0db",
     "showTitle": true,
     "tableResultSettingsMap": {},
     "title": "Task 4.2"
    }
   },
   "outputs": [],
   "source": [
    "# Sales each Brand per month\n",
    "view_brand_month = spark.sql(f\"\"\"\n",
    "SELECT \n",
    "    df.flavor_description AS brand,\n",
    "    fs.year,\n",
    "    dm.month_name AS month,\n",
    "    SUM(fs.sales_volume) AS total_sales\n",
    "FROM sql_fact_sale fs\n",
    "    JOIN sql_dim_month dm ON fs.month_id = dm.month_id\n",
    "    JOIN sql_dim_flavor df ON fs.flavor_id = df.flavor_id\n",
    "GROUP BY df.flavor_description, fs.year, dm.month_name\n",
    "ORDER BY year, month, total_sales DESC\n",
    "\"\"\")"
   ]
  },
  {
   "cell_type": "code",
   "execution_count": 0,
   "metadata": {
    "application/vnd.databricks.v1+cell": {
     "cellMetadata": {
      "byteLimit": 2048000,
      "rowLimit": 10000
     },
     "inputWidgets": {},
     "nuid": "de466556-55ef-49b7-a681-4957aa0cc9f8",
     "showTitle": true,
     "tableResultSettingsMap": {},
     "title": "Task 4.3"
    }
   },
   "outputs": [],
   "source": [
    "# Lowest brand in sales for each Region\n",
    "view_lowest_brand = spark.sql(f\"\"\"\n",
    "WITH ranked_brands AS (\n",
    "    SELECT \n",
    "        fs.region_desc AS region,\n",
    "        df.flavor_description AS brand,\n",
    "        SUM(fs.sales_volume) AS total_sales,\n",
    "        ROW_NUMBER() OVER(PARTITION BY fs.region_desc ORDER BY SUM(fs.sales_volume) ASC) AS rank\n",
    "    FROM sql_fact_sale fs\n",
    "        JOIN sql_dim_flavor df ON fs.flavor_id = df.flavor_id\n",
    "    GROUP BY fs.region_desc, df.flavor_description\n",
    ")\n",
    "SELECT \n",
    "    region, \n",
    "    brand, \n",
    "    total_sales\n",
    "FROM ranked_brands\n",
    "WHERE rank = 1\n",
    "ORDER BY region\n",
    "\"\"\")"
   ]
  },
  {
   "cell_type": "code",
   "execution_count": 0,
   "metadata": {
    "application/vnd.databricks.v1+cell": {
     "cellMetadata": {
      "byteLimit": 2048000,
      "rowLimit": 10000
     },
     "inputWidgets": {},
     "nuid": "320a04e3-bf05-4222-bb41-044848b2cbf4",
     "showTitle": true,
     "tableResultSettingsMap": {},
     "title": "Write function"
    }
   },
   "outputs": [],
   "source": [
    "def write_to_sql(df, table_name):\n",
    "    df.write \\\n",
    "        .format(\"jdbc\") \\\n",
    "        .option(\"url\", jdbc_url) \\\n",
    "        .option(\"dbtable\", f\"dbo.{table_name}\") \\\n",
    "        .option(\"user\", sql_user) \\\n",
    "        .option(\"password\", sql_password) \\\n",
    "        .option(\"driver\", \"com.microsoft.sqlserver.jdbc.SQLServerDriver\") \\\n",
    "        .mode(\"overwrite\") \\\n",
    "        .save()"
   ]
  },
  {
   "cell_type": "code",
   "execution_count": 0,
   "metadata": {
    "application/vnd.databricks.v1+cell": {
     "cellMetadata": {
      "byteLimit": 2048000,
      "rowLimit": 10000
     },
     "inputWidgets": {},
     "nuid": "627cc869-d97a-4e7b-a46e-84b0a0d9e37d",
     "showTitle": true,
     "tableResultSettingsMap": {},
     "title": "Write into tb"
    }
   },
   "outputs": [],
   "source": [
    "write_to_sql(view_region_trade_group, RESULT_REGION_TRADE_GROUP)\n",
    "write_to_sql(view_brand_month, RESULT_BRAND_MONTH)\n",
    "write_to_sql(view_lowest_brand, RESULT_LOWEST_BRAND)"
   ]
  }
 ],
 "metadata": {
  "application/vnd.databricks.v1+notebook": {
   "computePreferences": null,
   "dashboards": [],
   "environmentMetadata": {
    "base_environment": "",
    "environment_version": "2"
   },
   "inputWidgetPreferences": null,
   "language": "python",
   "notebookMetadata": {
    "pythonIndentUnit": 4
   },
   "notebookName": "(Clone) SQL_Gold - Transformation to Azure SQL",
   "widgets": {}
  },
  "language_info": {
   "name": "python"
  }
 },
 "nbformat": 4,
 "nbformat_minor": 0
}