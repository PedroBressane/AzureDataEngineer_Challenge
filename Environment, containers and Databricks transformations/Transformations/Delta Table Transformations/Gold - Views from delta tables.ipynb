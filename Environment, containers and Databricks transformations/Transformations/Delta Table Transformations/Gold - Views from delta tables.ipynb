{
 "cells": [
  {
   "cell_type": "code",
   "execution_count": 0,
   "metadata": {
    "application/vnd.databricks.v1+cell": {
     "cellMetadata": {
      "byteLimit": 2048000,
      "rowLimit": 10000
     },
     "inputWidgets": {},
     "nuid": "adeb52da-099c-4ca7-b80a-a39ae2c2d757",
     "showTitle": true,
     "tableResultSettingsMap": {},
     "title": "Variables"
    }
   },
   "outputs": [],
   "source": [
    "# Silver layer path variables\n",
    "fact_sale_path = \"/mnt/silver/fact_sale\"\n",
    "dim_month_path = \"/mnt/silver/dim_month\"\n",
    "dim_flavor_path = \"/mnt/silver/dim_flavor\"\n",
    "dim_package_path = \"/mnt/silver/dim_package\"\n",
    "dim_channel_group_path = \"/mnt/silver/dim_channel_group\"\n",
    "\n",
    "# Gold Layer path variables\n",
    "agg_sales_by_region_trade_group_path = \"/mnt/gold/agg_sales_by_region_trade_group\"\n",
    "agg_sales_by_brand_month_path = \"/mnt/gold/agg_sales_by_brand_month\"\n",
    "agg_lowest_brand_by_region_path = \"/mnt/gold/agg_lowest_brand_by_region\"\n"
   ]
  },
  {
   "cell_type": "code",
   "execution_count": 0,
   "metadata": {
    "application/vnd.databricks.v1+cell": {
     "cellMetadata": {
      "byteLimit": 2048000,
      "rowLimit": 10000
     },
     "inputWidgets": {},
     "nuid": "bf620004-305e-4ea2-bdea-f6b9b311d725",
     "showTitle": true,
     "tableResultSettingsMap": {},
     "title": "Task 4.1"
    }
   },
   "outputs": [
    {
     "output_type": "execute_result",
     "data": {
      "text/plain": [
       "DataFrame[num_affected_rows: bigint, num_inserted_rows: bigint]"
      ]
     },
     "execution_count": 2,
     "metadata": {},
     "output_type": "execute_result"
    }
   ],
   "source": [
    "# Top 3 Trade Groups for each Region in sales ($ Volume)\n",
    "spark.sql(f\"\"\"\n",
    "CREATE OR REPLACE TABLE delta.`{agg_sales_by_region_trade_group_path}`\n",
    "USING DELTA AS\n",
    "WITH ranked_trade_groups AS (\n",
    "    SELECT \n",
    "        fs.region_desc AS Bitr_Org_LVL_C_Desc,\n",
    "        dcg.trade_group_desc AS TRADE_GROUP_DESC,\n",
    "        SUM(fs.sales_volume) AS total_sales_volume,\n",
    "        ROW_NUMBER() OVER (PARTITION BY fs.region_desc ORDER BY SUM(fs.sales_volume) DESC) AS rank\n",
    "    FROM delta.`{fact_sale_path}` fs\n",
    "        JOIN delta.`{dim_channel_group_path}` dcg ON fs.channel_id = dcg.channel_id\n",
    "    GROUP BY fs.region_desc, dcg.trade_group_desc\n",
    ")\n",
    "SELECT \n",
    "    Bitr_Org_LVL_C_Desc,\n",
    "    TRADE_GROUP_DESC,\n",
    "    total_sales_volume\n",
    "FROM ranked_trade_groups\n",
    "WHERE rank <= 3\n",
    "ORDER BY Bitr_Org_LVL_C_Desc, rank\n",
    "\"\"\")"
   ]
  },
  {
   "cell_type": "code",
   "execution_count": 0,
   "metadata": {
    "application/vnd.databricks.v1+cell": {
     "cellMetadata": {
      "byteLimit": 2048000,
      "rowLimit": 10000
     },
     "inputWidgets": {},
     "nuid": "eb1e877a-0b08-4c14-bfa2-05f88d138148",
     "showTitle": true,
     "tableResultSettingsMap": {},
     "title": "Task 4.2"
    }
   },
   "outputs": [
    {
     "output_type": "execute_result",
     "data": {
      "text/plain": [
       "DataFrame[num_affected_rows: bigint, num_inserted_rows: bigint]"
      ]
     },
     "execution_count": 3,
     "metadata": {},
     "output_type": "execute_result"
    }
   ],
   "source": [
    "# Sales each Brand per month\n",
    "spark.sql(f\"\"\"\n",
    "CREATE OR REPLACE TABLE delta.`{agg_sales_by_brand_month_path}`\n",
    "USING DELTA AS\n",
    "SELECT \n",
    "    df.flavor_description AS BRAND_NM,\n",
    "    fs.year,\n",
    "    dm.month_id,\n",
    "    dm.month_name AS month,\n",
    "    SUM(fs.sales_volume) AS total_sales\n",
    "FROM delta.`{fact_sale_path}` fs\n",
    "    JOIN delta.`{dim_month_path}` dm ON fs.month_id = dm.month_id\n",
    "    JOIN delta.`{dim_flavor_path}` df ON fs.flavor_id = df.flavor_id\n",
    "GROUP BY df.flavor_description, fs.year,dm.month_id, dm.month_name\n",
    "ORDER BY fs.year, dm.month_id, total_sales DESC\n",
    "\"\"\")"
   ]
  },
  {
   "cell_type": "code",
   "execution_count": 0,
   "metadata": {
    "application/vnd.databricks.v1+cell": {
     "cellMetadata": {
      "byteLimit": 2048000,
      "rowLimit": 10000
     },
     "inputWidgets": {},
     "nuid": "252d1d23-8b20-4c52-8083-7b69e84ab878",
     "showTitle": true,
     "tableResultSettingsMap": {},
     "title": "task 4.3"
    }
   },
   "outputs": [
    {
     "output_type": "execute_result",
     "data": {
      "text/plain": [
       "DataFrame[num_affected_rows: bigint, num_inserted_rows: bigint]"
      ]
     },
     "execution_count": 4,
     "metadata": {},
     "output_type": "execute_result"
    }
   ],
   "source": [
    "# Lowest brand in sales for each Region\n",
    "spark.sql(f\"\"\"\n",
    "CREATE OR REPLACE TABLE delta.`{agg_lowest_brand_by_region_path}`\n",
    "USING DELTA AS\n",
    "WITH ranked_brands AS (\n",
    "    SELECT \n",
    "        fs.region_desc AS Bitr_Org_LVL_C_Desc,\n",
    "        df.flavor_description AS BRAND_NM,\n",
    "        SUM(fs.sales_volume) AS total_sales,\n",
    "        ROW_NUMBER() OVER (PARTITION BY fs.region_desc ORDER BY SUM(fs.sales_volume) ASC) AS rank\n",
    "    FROM delta.`{fact_sale_path}` fs\n",
    "        JOIN delta.`{dim_flavor_path}` df ON fs.flavor_id = df.flavor_id\n",
    "    GROUP BY fs.region_desc, df.flavor_description\n",
    ")\n",
    "SELECT \n",
    "    Bitr_Org_LVL_C_Desc AS region,\n",
    "    BRAND_NM,\n",
    "    total_sales\n",
    "FROM ranked_brands\n",
    "WHERE rank = 1\n",
    "ORDER BY Bitr_Org_LVL_C_Desc, BRAND_NM\n",
    "\"\"\")"
   ]
  },
  {
   "cell_type": "code",
   "execution_count": 0,
   "metadata": {
    "application/vnd.databricks.v1+cell": {
     "cellMetadata": {
      "byteLimit": 2048000,
      "rowLimit": 10000
     },
     "inputWidgets": {},
     "nuid": "097a7da4-e434-44d8-9aff-77e3182f65a8",
     "showTitle": true,
     "tableResultSettingsMap": {},
     "title": "View da task 4.1"
    }
   },
   "outputs": [
    {
     "output_type": "stream",
     "name": "stdout",
     "output_type": "stream",
     "text": [
      "+-------------------+----------------+------------------+\n|Bitr_Org_LVL_C_Desc|TRADE_GROUP_DESC|total_sales_volume|\n+-------------------+----------------+------------------+\n|             CANADA|         GROCERY| 168766.8300000001|\n|             CANADA|        SERVICES| 83769.16999999998|\n|             CANADA|        ACADEMIC|53134.440000000046|\n|        GREAT LAKES|         GROCERY| 380355.6299999994|\n|        GREAT LAKES|        SERVICES|157815.51999999987|\n|        GREAT LAKES|        ACADEMIC|152051.44999999998|\n|            MIDWEST|         GROCERY|326538.02999999933|\n|            MIDWEST|        SERVICES|129280.47999999998|\n|            MIDWEST|        ACADEMIC| 88605.36999999994|\n|          NORTHEAST|         GROCERY| 403785.5699999997|\n+-------------------+----------------+------------------+\n\n"
     ]
    }
   ],
   "source": [
    "spark.sql(f\"SELECT * FROM delta.`{agg_sales_by_region_trade_group_path}` LIMIT 10\").show()\n"
   ]
  },
  {
   "cell_type": "code",
   "execution_count": 0,
   "metadata": {
    "application/vnd.databricks.v1+cell": {
     "cellMetadata": {
      "byteLimit": 2048000,
      "rowLimit": 10000
     },
     "inputWidgets": {},
     "nuid": "ccd9f98c-65a5-441c-ad1d-804bf000f988",
     "showTitle": true,
     "tableResultSettingsMap": {},
     "title": "View da task 4.2"
    }
   },
   "outputs": [
    {
     "output_type": "stream",
     "name": "stdout",
     "output_type": "stream",
     "text": [
      "+-----------+----+--------+--------+------------------+\n|   BRAND_NM|year|month_id|   month|       total_sales|\n+-----------+----+--------+--------+------------------+\n|      LEMON|2006|       1| January|507073.77999999805|\n|  RASPBERRY|2006|       1| January| 395317.6199999987|\n| STRAWBERRY|2006|       1| January| 315988.6899999993|\n|      LEMON|2006|       2|February| 552125.5499999976|\n|  RASPBERRY|2006|       2|February| 410339.5199999982|\n| STRAWBERRY|2006|       2|February|345956.93999999925|\n|      LEMON|2006|       3|   March| 766990.9599999957|\n|  RASPBERRY|2006|       3|   March| 588382.7199999978|\n| STRAWBERRY|2006|       3|   March| 475823.2999999985|\n|      GRAPE|2006|       3|   March|               7.5|\n+-----------+----+--------+--------+------------------+\n\n"
     ]
    }
   ],
   "source": [
    "spark.sql(f\"SELECT * FROM delta.`{agg_sales_by_brand_month_path}` LIMIT 10\").show()\n"
   ]
  },
  {
   "cell_type": "code",
   "execution_count": 0,
   "metadata": {
    "application/vnd.databricks.v1+cell": {
     "cellMetadata": {
      "byteLimit": 2048000,
      "rowLimit": 10000
     },
     "inputWidgets": {},
     "nuid": "d05df62a-664f-403c-95a6-b1017445edba",
     "showTitle": true,
     "tableResultSettingsMap": {},
     "title": "View da task 4.3"
    }
   },
   "outputs": [
    {
     "output_type": "stream",
     "name": "stdout",
     "output_type": "stream",
     "text": [
      "+-----------+-----------+------------------+\n|     region|   BRAND_NM|       total_sales|\n+-----------+-----------+------------------+\n|     CANADA| STRAWBERRY| 74209.37000000004|\n|GREAT LAKES| STRAWBERRY|208918.15999999983|\n|    MIDWEST| STRAWBERRY|149246.31999999986|\n|  NORTHEAST| STRAWBERRY| 195695.9699999998|\n|  SOUTHEAST|  RASPBERRY|         224057.24|\n|  SOUTHWEST|      GRAPE|               7.5|\n|       WEST| STRAWBERRY| 135077.2199999999|\n+-----------+-----------+------------------+\n\n"
     ]
    }
   ],
   "source": [
    "spark.sql(f\"SELECT * FROM delta.`{agg_lowest_brand_by_region_path}` LIMIT 10\").show()\n"
   ]
  }
 ],
 "metadata": {
  "application/vnd.databricks.v1+notebook": {
   "computePreferences": null,
   "dashboards": [],
   "environmentMetadata": {
    "base_environment": "",
    "environment_version": "2"
   },
   "inputWidgetPreferences": null,
   "language": "python",
   "notebookMetadata": {
    "pythonIndentUnit": 4
   },
   "notebookName": "(Clone) Gold - Views from delta tables",
   "widgets": {}
  },
  "language_info": {
   "name": "python"
  }
 },
 "nbformat": 4,
 "nbformat_minor": 0
}