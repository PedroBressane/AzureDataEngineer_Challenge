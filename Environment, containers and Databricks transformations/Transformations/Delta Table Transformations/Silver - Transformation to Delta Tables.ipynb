{
 "cells": [
  {
   "cell_type": "code",
   "execution_count": 0,
   "metadata": {
    "application/vnd.databricks.v1+cell": {
     "cellMetadata": {
      "byteLimit": 2048000,
      "rowLimit": 10000
     },
     "inputWidgets": {},
     "nuid": "e7d41889-6c35-46fb-bb0e-6e93e3856ef5",
     "showTitle": true,
     "tableResultSettingsMap": {},
     "title": "Read from files to df with Schema"
    }
   },
   "outputs": [],
   "source": [
    "import chardet\n",
    "from pyspark.sql import SparkSession\n",
    "from pyspark.sql.types import StructType, StructField, StringType\n",
    "from pyspark.sql.functions import col, to_date, regexp_replace, trim, upper, row_number, expr, abs\n",
    "from pyspark.sql.window import Window\n",
    "\n",
    "# Detect file encoding\n",
    "def detect_encoding_spark(spark, path, sample_size=1024):\n",
    "    try:\n",
    "        binary_rdd = spark.sparkContext.binaryFiles(path).map(lambda x: x[1])\n",
    "        sample_bytes = binary_rdd.take(1)[0][:sample_size]\n",
    "        result = chardet.detect(sample_bytes)\n",
    "        return result['encoding']\n",
    "    except Exception as e:\n",
    "        print(f\"Erro ao detectar encoding: {str(e)}\")\n",
    "        return \"UTF-8\"\n",
    "\n",
    "# Simplified Schema importing from CSV as String\n",
    "simple_schema = StructType([StructField(c.upper(), StringType(), True) for c in [\n",
    "    \"DATE\", \"CE_BRAND_FLVR\", \"BRAND_NM\", \"BTLR_ORG_LVL_C_DESC\",\n",
    "    \"CHNL_GROUP\", \"TRADE_CHNL_DESC\", \"PKG_CAT\", \"PKG_CAT_DESC\",\n",
    "    \"TSR_PCKG_NM\", \"$ VOLUME\", \"YEAR\", \"MONTH\", \"PERIOD\"\n",
    "]])\n",
    "\n",
    "# Read from CSV with previous detected encoding\n",
    "def read_csv_simple(spark, path, delimiter=\"\\t\"):\n",
    "    encoding = detect_encoding_spark(spark, path)\n",
    "\n",
    "    df = spark.read.format(\"csv\") \\\n",
    "        .option(\"header\", \"true\") \\\n",
    "        .option(\"encoding\", encoding if encoding != 'UTF-8-SIG' else 'UTF-8') \\\n",
    "        .option(\"delimiter\", delimiter) \\\n",
    "        .schema(simple_schema) \\\n",
    "        .load(path)\n",
    "    df_upper = df.toDF(*[col_name.upper() for col_name in df.columns])\n",
    "    return df_upper\n",
    "\n",
    "# Start spark session\n",
    "spark = SparkSession.builder.getOrCreate()\n",
    "\n",
    "# Read beverage_sales, correct the date format and TSR_PCKG_NM standardization\n",
    "beverage_sales_df = read_csv_simple(\n",
    "    spark,\n",
    "    \"/mnt/bronze/beverage_sales/abi_bus_case1_beverage_sales_20210726.csv\",\n",
    "    \"\\t\"\n",
    ").select(\n",
    "    to_date(\n",
    "        regexp_replace(col(\"DATE\"), r\"^(\\d{1})/\", r\"0$1/\"),\n",
    "        \"MM/dd/yyyy\"\n",
    "    ).alias(\"DATE\"),\n",
    "\n",
    "    col(\"CE_BRAND_FLVR\").cast(\"integer\"),\n",
    "    col(\"BRAND_NM\"),\n",
    "    col(\"BTLR_ORG_LVL_C_DESC\"),\n",
    "    col(\"CHNL_GROUP\"),\n",
    "    col(\"TRADE_CHNL_DESC\"),\n",
    "    col(\"PKG_CAT\"),\n",
    "    col(\"PKG_CAT_DESC\"),\n",
    "    upper(trim(regexp_replace(col(\"TSR_PCKG_NM\"), r\"( \\*| S|\\*|S)$\", \"\"))).alias(\"TSR_PCKG_NM\"), # Clean TSR_PCKG_NM removing sufixes\n",
    "    abs(col(\"$ VOLUME\").cast(\"double\")).alias(\"$ VOLUME\"), # absolute numbers, negative to positive\n",
    "    col(\"YEAR\").cast(\"integer\"),\n",
    "    col(\"MONTH\").cast(\"integer\"),\n",
    "    col(\"PERIOD\").cast(\"integer\")\n",
    ")\n",
    "\n",
    "# Read channel_features\n",
    "channel_features_df = spark.read.format(\"csv\") \\\n",
    "    .option(\"header\", \"true\") \\\n",
    "    .option(\"inferSchema\", \"true\") \\\n",
    "    .load(\"/mnt/bronze/beverage_channel_features/xxx_bus_case1_beverage_channel_group_20210726.csv\")\n"
   ]
  },
  {
   "cell_type": "code",
   "execution_count": 0,
   "metadata": {
    "application/vnd.databricks.v1+cell": {
     "cellMetadata": {
      "byteLimit": 2048000,
      "rowLimit": 10000
     },
     "inputWidgets": {},
     "nuid": "489a4eb7-b2f6-476a-8db0-fa60af9d583f",
     "showTitle": true,
     "tableResultSettingsMap": {},
     "title": "Merge dataframes"
    }
   },
   "outputs": [],
   "source": [
    "# Merge\n",
    "merged_df = beverage_sales_df.join(\n",
    "    channel_features_df,\n",
    "    on=\"TRADE_CHNL_DESC\",\n",
    "    how=\"left\"\n",
    ")\n",
    "\n",
    "# Show Schema\n",
    "# merged_df.printSchema()"
   ]
  },
  {
   "cell_type": "code",
   "execution_count": 0,
   "metadata": {
    "application/vnd.databricks.v1+cell": {
     "cellMetadata": {
      "byteLimit": 2048000,
      "rowLimit": 10000
     },
     "inputWidgets": {},
     "nuid": "71dfd02b-5192-41dc-a749-f352353a193f",
     "showTitle": true,
     "tableResultSettingsMap": {},
     "title": "Create dim_flavor"
    }
   },
   "outputs": [],
   "source": [
    "# dim_flavor\n",
    "dim_flavor = merged_df.select(\n",
    "    col(\"CE_BRAND_FLVR\").alias(\"flavor_id\"),\n",
    "    col(\"BRAND_NM\").alias(\"flavor_description\")\n",
    ").distinct()\n",
    "dim_flavor.write.format(\"delta\").mode(\"overwrite\").save(\"/mnt/silver/dim_flavor\")"
   ]
  },
  {
   "cell_type": "code",
   "execution_count": 0,
   "metadata": {
    "application/vnd.databricks.v1+cell": {
     "cellMetadata": {
      "byteLimit": 2048000,
      "rowLimit": 10000
     },
     "inputWidgets": {},
     "nuid": "20ef2614-b2ea-4992-a66c-27b7b85d4c0b",
     "showTitle": true,
     "tableResultSettingsMap": {},
     "title": "Create dim_package"
    }
   },
   "outputs": [],
   "source": [
    "# dim_package\n",
    "dim_package = merged_df.select(\n",
    "    col(\"PKG_CAT\").alias(\"package_category_code\"),\n",
    "    col(\"Pkg_Cat_Desc\").alias(\"package_category_description\"),\n",
    "    col(\"TSR_PCKG_NM\").alias(\"package_name\")\n",
    ").distinct()\n",
    "dim_package.write.format(\"delta\").mode(\"overwrite\").save(\"/mnt/silver/dim_package\")"
   ]
  },
  {
   "cell_type": "code",
   "execution_count": 0,
   "metadata": {
    "application/vnd.databricks.v1+cell": {
     "cellMetadata": {
      "byteLimit": 2048000,
      "rowLimit": 10000
     },
     "inputWidgets": {},
     "nuid": "526f856b-99ba-415e-913f-51a065395c90",
     "showTitle": true,
     "tableResultSettingsMap": {},
     "title": "Create dim_channel_group"
    }
   },
   "outputs": [],
   "source": [
    "# dim_channel_group\n",
    "dim_channel_group = merged_df.select(\n",
    "    col(\"TRADE_CHNL_DESC\").alias(\"channel_id\"),\n",
    "    col(\"CHNL_GROUP\").alias(\"channel_group\"),\n",
    "    col(\"TRADE_GROUP_DESC\").alias(\"trade_group_desc\"),\n",
    "    col(\"TRADE_TYPE_DESC\").alias(\"trade_type_desc\")\n",
    ").distinct()\n",
    "dim_channel_group.write.format(\"delta\").mode(\"overwrite\").save(\"/mnt/silver/dim_channel_group\")"
   ]
  },
  {
   "cell_type": "code",
   "execution_count": 0,
   "metadata": {
    "application/vnd.databricks.v1+cell": {
     "cellMetadata": {
      "byteLimit": 2048000,
      "rowLimit": 10000
     },
     "inputWidgets": {},
     "nuid": "6f2c3368-2d39-4b23-8b4e-2f706f34d479",
     "showTitle": true,
     "tableResultSettingsMap": {},
     "title": "Create dim_month"
    }
   },
   "outputs": [],
   "source": [
    "# dim_month\n",
    "dim_month = merged_df.select(\n",
    "    col(\"MONTH\").alias(\"month_id\")\n",
    ").distinct().withColumn(\n",
    "    \"month_name\",\n",
    "    expr(\"\"\"\n",
    "        CASE month_id\n",
    "            WHEN 1 THEN 'January'\n",
    "            WHEN 2 THEN 'February'\n",
    "            WHEN 3 THEN 'March'\n",
    "            WHEN 4 THEN 'April'\n",
    "            WHEN 5 THEN 'May'\n",
    "            WHEN 6 THEN 'June'\n",
    "            WHEN 7 THEN 'July'\n",
    "            WHEN 8 THEN 'August'\n",
    "            WHEN 9 THEN 'September'\n",
    "            WHEN 10 THEN 'October'\n",
    "            WHEN 11 THEN 'November'\n",
    "            WHEN 12 THEN 'December'\n",
    "        END\n",
    "    \"\"\"))\n",
    "dim_month.write.format(\"delta\").mode(\"overwrite\").save(\"/mnt/silver/dim_month\")"
   ]
  },
  {
   "cell_type": "code",
   "execution_count": 0,
   "metadata": {
    "application/vnd.databricks.v1+cell": {
     "cellMetadata": {
      "byteLimit": 2048000,
      "rowLimit": 10000
     },
     "inputWidgets": {},
     "nuid": "d4711e5a-9d2c-403a-8c20-9d56046f5da5",
     "showTitle": true,
     "tableResultSettingsMap": {},
     "title": "Create fact_sale"
    }
   },
   "outputs": [],
   "source": [
    "# Define window\n",
    "windowSpec = Window.orderBy(\n",
    "    col(\"selling_date\"),\n",
    "    col(\"flavor_id\"),\n",
    "    col(\"region_desc\"),\n",
    "    col(\"channel_id\"))\n",
    "# fact_table\n",
    "fact_sale = merged_df.select(\n",
    "    col(\"DATE\").alias(\"selling_date\"),\n",
    "    col(\"YEAR\").alias(\"year\"),\n",
    "    col(\"MONTH\").alias(\"month_id\"),\n",
    "    col(\"PERIOD\").alias(\"week\"),\n",
    "    col(\"CE_BRAND_FLVR\").alias(\"flavor_id\"),\n",
    "    col(\"BTLR_ORG_LVL_C_DESC\").alias(\"region_desc\"),\n",
    "    col(\"PKG_CAT\").alias(\"package_category_code\"),\n",
    "    col(\"$ VOLUME\").alias(\"sales_volume\"),\n",
    "    col(\"TRADE_CHNL_DESC\").alias(\"channel_id\")\n",
    ").withColumn(\n",
    "    \"sale_id\", row_number().over(windowSpec)\n",
    ")\n",
    "# Reorganize columns\n",
    "fact_sale = fact_sale.select(\n",
    "    \"sale_id\", \"selling_date\", \"year\", \"month_id\", \"week\",\n",
    "    \"flavor_id\", \"region_desc\", \"package_category_code\",\n",
    "    \"sales_volume\", \"channel_id\"\n",
    ")\n",
    "fact_sale.write.format(\"delta\").mode(\"overwrite\").save(\"/mnt/silver/fact_sale\")\n"
   ]
  },
  {
   "cell_type": "code",
   "execution_count": 0,
   "metadata": {
    "application/vnd.databricks.v1+cell": {
     "cellMetadata": {
      "byteLimit": 2048000,
      "rowLimit": 10000
     },
     "inputWidgets": {},
     "nuid": "40232105-9aa0-4bf8-86a3-498326c9290c",
     "showTitle": false,
     "tableResultSettingsMap": {},
     "title": ""
    }
   },
   "outputs": [],
   "source": [
    "#del beverage_sales_df\n",
    "#del channel_features_df"
   ]
  }
 ],
 "metadata": {
  "application/vnd.databricks.v1+notebook": {
   "computePreferences": null,
   "dashboards": [],
   "environmentMetadata": {
    "base_environment": "",
    "environment_version": "2"
   },
   "inputWidgetPreferences": null,
   "language": "python",
   "notebookMetadata": {
    "pythonIndentUnit": 4
   },
   "notebookName": "(Clone) Silver - Transformation to Delta Tables",
   "widgets": {}
  },
  "language_info": {
   "name": "python"
  }
 },
 "nbformat": 4,
 "nbformat_minor": 0
}